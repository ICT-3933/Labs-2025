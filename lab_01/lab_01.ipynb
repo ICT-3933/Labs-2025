{
 "cells": [
  {
   "cell_type": "markdown",
   "metadata": {
    "editable": true,
    "slideshow": {
     "slide_type": "slide"
    },
    "tags": []
   },
   "source": [
    "# Laboratorio 1\n",
    "\n",
    "## Introducción a los Sistemas de Información Geográfica\n",
    "\n",
    "Ayudante: Janus Leonhardt | jaleonhardt@uc.cl\n",
    "\n",
    "Profesor: Ricardo Hurtubia | rhurtubia@uc.cl"
   ]
  },
  {
   "cell_type": "markdown",
   "metadata": {
    "editable": true,
    "slideshow": {
     "slide_type": "slide"
    },
    "tags": []
   },
   "source": [
    "## Objetivos del Laboratorio\n",
    "\n",
    "1.\tComprender los conceptos básicos y aplicaciones de los Sistemas de Información Geográfica (SIG) en el análisis espacial, a partir del uso de QGIS.\n",
    "\n",
    "2.    Aprender a cargar, visualizar y manipular datos geoespaciales utilizando la librería GeoPandas en Python, siendo una alternativa a los softwares comerciales de SIG.\n",
    "\n",
    "3.\tFamiliarizarse con la estructura y contenido del \"Detalle Catastral de Bienes Raíces\" proporcionado por el Servicio de Impuestos Internos (SII) de Chile.\n",
    "\n",
    "4.\tAprender a indexar geográficamente los predios utilizando el sistema de celdas *h3* en diferentes resoluciones.\n",
    "\n",
    "6.\tExportar los datos geoespaciales procesados para su uso en laboratorios posteriores."
   ]
  },
  {
   "cell_type": "markdown",
   "metadata": {
    "editable": true,
    "slideshow": {
     "slide_type": "skip"
    },
    "tags": []
   },
   "source": [
    "---"
   ]
  },
  {
   "cell_type": "markdown",
   "metadata": {
    "editable": true,
    "slideshow": {
     "slide_type": "slide"
    },
    "tags": []
   },
   "source": [
    "## 1. ¿Qué son los Sistemas de Información Geográfica?\n",
    "\n",
    "Los Sistemas de Información Geográfica (SIG) son herramientas diseñadas para capturar, almacenar, manipular, analizar, gestionar y presentar datos geoespaciales. Los GIS permiten a los usuarios visualizar relaciones, patrones y tendencias mediante la representación de datos en formatos geográficos como mapas."
   ]
  },
  {
   "cell_type": "markdown",
   "metadata": {
    "editable": true,
    "slideshow": {
     "slide_type": "subslide"
    },
    "tags": []
   },
   "source": [
    "### Ejemplos de Aplicaciones de GIS\n",
    "\n",
    "- **Urbanismo y Planificación Territorial**: Diseño de infraestructuras, zonificación y gestión de recursos urbanos.\n",
    "\n",
    "- **Transporte**: Análisis de rutas, planificación de sistemas de transporte público y optimización de redes viales.\n",
    "\n",
    "- **Medio Ambiente**: Monitoreo de cambios en el uso del suelo, gestión de recursos naturales y estudios de impacto ambiental.\n",
    "\n",
    "- **Salud Pública**: Seguimiento de enfermedades, planificación de servicios de salud y análisis de acceso a instalaciones médicas."
   ]
  },
  {
   "cell_type": "markdown",
   "metadata": {
    "editable": true,
    "slideshow": {
     "slide_type": "subslide"
    },
    "tags": []
   },
   "source": [
    "### Herramientas Comunes en GIS\n",
    "\n",
    "<table style=\"width:100%; border-collapse:collapse; margin:0 auto;\">\n",
    "  <tr>\n",
    "    <td style=\"text-align:center;\">\n",
    "      <img src=\"assets/qgis.png\" alt=\"QGIS\" style=\"height:48px; display:block; margin:0 auto 10px;\">\n",
    "    </td>\n",
    "    <td style=\"text-align:center;\">\n",
    "      <img src=\"assets/arcgis.png\" alt=\"ArcGIS\" style=\"height:48px; display:block; margin:0 auto 10px;\">\n",
    "    </td>\n",
    "    <td style=\"text-align:center;\">\n",
    "      <img src=\"assets/geopandas.png\" alt=\"GeoPandas\" style=\"height:48px; display:block; margin:0 auto 10px;\">\n",
    "    </td>\n",
    "  </tr>\n",
    "  <tr>\n",
    "    <td style=\"text-align:center; color:#555; font-style:italic;\">\n",
    "      Software de código abierto para visualizar, gestionar y editar datos geoespaciales.\n",
    "    </td>\n",
    "    <td style=\"text-align:center; color:#555; font-style:italic;\">\n",
    "      Plataforma comercial para análisis geoespaciales avanzados en entornos profesionales.\n",
    "    </td>\n",
    "    <td style=\"text-align:center; color:#555; font-style:italic;\">\n",
    "      Librería de Python que facilita el trabajo con datos geoespaciales de manera similar a Pandas.\n",
    "    </td>\n",
    "  </tr>\n",
    "</table>"
   ]
  },
  {
   "cell_type": "markdown",
   "metadata": {
    "editable": true,
    "slideshow": {
     "slide_type": "subslide"
    },
    "tags": []
   },
   "source": [
    "<!-- Slide: Tipos de Datos Geográficos -->\n",
    "<style>\n",
    "  /* Estilos específicos para que funcione bien en RISE/Reveal */\n",
    "  .reveal table.geo { \n",
    "    border-collapse: collapse; \n",
    "    margin: 0 auto; \n",
    "    width: 100%;\n",
    "    font-size: 0.9em;           /* ~\\footnotesize */\n",
    "  }\n",
    "  .reveal table.geo th, \n",
    "  .reveal table.geo td { \n",
    "    border-top: 1px solid #ccc;\n",
    "    border-bottom: 1px solid #ccc;\n",
    "    padding: 6px 8px;           /* ~\\tabcolsep */\n",
    "    vertical-align: middle;\n",
    "  }\n",
    "  /* Alineaciones por columna */\n",
    "  .reveal table.geo td.col-prim, \n",
    "  .reveal table.geo th.col-prim,\n",
    "  .reveal table.geo td.col-atr, \n",
    "  .reveal table.geo th.col-atr { \n",
    "    text-align: left; \n",
    "  }\n",
    "  .reveal table.geo td.col-ej, \n",
    "  .reveal table.geo th.col-ej,\n",
    "  .reveal table.geo td.col-rep, \n",
    "  .reveal table.geo th.col-rep { \n",
    "    text-align: center; \n",
    "  }\n",
    "  /* Miniaturas ~2.2 cm ≈ 83px */\n",
    "  .reveal table.geo img {\n",
    "    height: 83px; \n",
    "    object-fit: contain; \n",
    "    display: block; \n",
    "    margin: 0 auto;\n",
    "    max-width: 100%;\n",
    "  }\n",
    "  /* Limitar ancho de la columna de atributos para legibilidad (opcional) */\n",
    "  .reveal table.geo td.col-atr { max-width: 260px; }\n",
    "</style>\n",
    "\n",
    "<h3>Tipos de Datos Geográficos</h3>\n",
    "\n",
    "<table class=\"geo\">\n",
    "  <thead>\n",
    "    <tr>\n",
    "      <th class=\"col-prim\">Primitiva</th>\n",
    "      <th class=\"col-ej\">Ejemplo</th>\n",
    "      <th class=\"col-rep\">Representación</th>\n",
    "      <th class=\"col-atr\">Atributos</th>\n",
    "    </tr>\n",
    "  </thead>\n",
    "  <tbody>\n",
    "    <tr>\n",
    "      <td class=\"col-prim\"><strong>Puntos</strong></td>\n",
    "      <td class=\"col-ej\">\n",
    "        <img src=\"assets/points_feature.png\" alt=\"Puntos - Ejemplo\">\n",
    "      </td>\n",
    "      <td class=\"col-rep\">\n",
    "        <img src=\"assets/points_representation.png\" alt=\"Puntos - Representación\">\n",
    "      </td>\n",
    "      <td class=\"col-atr\">ID<br>Altura<br>Diámetro</td>\n",
    "    </tr>\n",
    "    <tr>\n",
    "      <td class=\"col-prim\"><strong>Líneas</strong></td>\n",
    "      <td class=\"col-ej\">\n",
    "        <img src=\"assets/lines_feature.png\" alt=\"Líneas - Ejemplo\">\n",
    "      </td>\n",
    "      <td class=\"col-rep\">\n",
    "        <img src=\"assets/lines_representation.png\" alt=\"Líneas - Representación\">\n",
    "      </td>\n",
    "      <td class=\"col-atr\">Ancho<br>Profundidad<br>Longitud</td>\n",
    "    </tr>\n",
    "    <tr>\n",
    "      <td class=\"col-prim\"><strong>Polígonos</strong></td>\n",
    "      <td class=\"col-ej\">\n",
    "        <img src=\"assets/polygons_feature.png\" alt=\"Polígonos - Ejemplo\">\n",
    "      </td>\n",
    "      <td class=\"col-rep\">\n",
    "        <img src=\"assets/polygons_representation.png\" alt=\"Polígonos - Representación\">\n",
    "      </td>\n",
    "      <td class=\"col-atr\">Área<br>Perímetro<br>(Otros)</td>\n",
    "    </tr>\n",
    "  </tbody>\n",
    "</table>"
   ]
  },
  {
   "cell_type": "markdown",
   "metadata": {
    "editable": true,
    "slideshow": {
     "slide_type": "subslide"
    },
    "tags": []
   },
   "source": [
    "### Tipos de Archivos Geoespaciales\n",
    "\n",
    "- **Shapefile**: Conjunto de varios archivos (.shp, .shx, .dbf, .prj, ...). Formato muy utilizado, pero poco práctico por manejar múltiples ficheros.\n",
    "\n",
    "- **GeoJSON**: Basado en JSON, contiene geometrías y atributos en un solo archivo. Sencillo de compartir y leer, además de soportar proyecciones. En este curso, usaremos principalmente este formato.\n",
    "\n",
    "- **Parquet**: Formato columnar muy eficiente para grandes volúmenes de datos. Permite compresión y un acceso rápido a columnas específicas."
   ]
  },
  {
   "cell_type": "markdown",
   "metadata": {
    "editable": true,
    "slideshow": {
     "slide_type": "subslide"
    },
    "tags": []
   },
   "source": [
    "### Proyecciones Geográficas (CRS)\n",
    "\n",
    "- Un CRS (Coordinate Reference System) define cómo se proyectan las coordenadas de la Tierra en un plano.\n",
    "- EPSG:4326 (WGS84) es un CRS global en coordenadas latitud/longitud.\n",
    "- En Chile se usan con frecuencia el EPSG:32718 o EPSG:32719 (UTM Zona 18S y 19S) para proyecciones en metros.\n",
    "- Es fundamental unificar el CRS al trabajar con distintos conjuntos de datos."
   ]
  },
  {
   "cell_type": "markdown",
   "metadata": {
    "editable": true,
    "slideshow": {
     "slide_type": "skip"
    },
    "tags": []
   },
   "source": [
    "---"
   ]
  },
  {
   "cell_type": "markdown",
   "metadata": {
    "editable": true,
    "slideshow": {
     "slide_type": "slide"
    },
    "tags": []
   },
   "source": [
    "## 2. Introducción a QGIS\n",
    "\n",
    "Antes de sumergirnos en Python (y, en particular GeoPandas), es útil tener una visión general de cómo se manejan los datos geoespaciales en QGIS."
   ]
  },
  {
   "cell_type": "markdown",
   "metadata": {
    "editable": true,
    "slideshow": {
     "slide_type": "subslide"
    },
    "tags": []
   },
   "source": [
    "### Pasos Básicos en QGIS\n",
    "\n",
    "1. **Instalación de QGIS:**\n",
    "\n",
    "   - Descargar desde [QGIS.org](https://qgis.org).\n",
    "\n",
    "   - Seguir las instrucciones de instalación según el Sistema Operativo.\n",
    "\n",
    "2. **Cargar una Capa Vectorial:**\n",
    "\n",
    "   - Abrir QGIS y seleccionar `Capa > Añadir Capa > Añadir Capa Vectorial`.\n",
    "\n",
    "   - Seleccionar el archivo geoespacial (por ejemplo, GeoJSON, Shapefile).\n",
    "\n",
    "3. **Visualizar Geometrías:**\n",
    "\n",
    "   - Polígonos, líneas y puntos se representan de manera distinta.\n",
    "\n",
    "   - Personalizar simbología desde el \"Panel de Propiedades\" de la capa.\n",
    "\n",
    "4. **Definir y Reproyectar Sistemas de Coordenadas:**\n",
    "\n",
    "   - Verificar el CRS (Sistema de Referencia de Coordenadas) actual.\n",
    "\n",
    "   - Reproyectar capas si es necesario desde `Capa > Guardar Como...` y seleccionar el CRS deseado."
   ]
  },
  {
   "cell_type": "markdown",
   "metadata": {
    "editable": true,
    "slideshow": {
     "slide_type": "skip"
    },
    "tags": []
   },
   "source": [
    "---"
   ]
  },
  {
   "cell_type": "markdown",
   "metadata": {
    "editable": true,
    "slideshow": {
     "slide_type": "slide"
    },
    "tags": []
   },
   "source": [
    "## 3. Instalación y Configuración del Entorno de Trabajo"
   ]
  },
  {
   "cell_type": "markdown",
   "metadata": {
    "editable": true,
    "slideshow": {
     "slide_type": "subslide"
    },
    "tags": []
   },
   "source": [
    "### Requisitos Previos\n",
    "\n",
    "- Python 3.7 o superior\n",
    "\n",
    "- Jupyter Notebook\n",
    "\n",
    "- **Librerías de Python:**\n",
    "\n",
    "  - pandas\n",
    "  - geopandas\n",
    "  - shapely\n",
    "  - h3\n",
    "  - matplotlib\n",
    "  - folium\n",
    "  - mapclassify"
   ]
  },
  {
   "cell_type": "markdown",
   "metadata": {
    "editable": true,
    "slideshow": {
     "slide_type": "subslide"
    },
    "tags": []
   },
   "source": [
    "### Instalación de Librerías\n",
    "\n",
    "Para instalar las librerías de Python, debes ejecutar las siguientes celdas de código. Siempre es recomendable usar un **entorno virtual** para gestionar las dependencias.\n",
    "\n",
    "<br>\n"
   ]
  },
  {
   "cell_type": "code",
   "execution_count": null,
   "metadata": {
    "editable": true,
    "slideshow": {
     "slide_type": "fragment"
    },
    "tags": []
   },
   "outputs": [],
   "source": [
    "# instalación de las librerías necesarias\n",
    "!pip install pandas geopandas shapely h3 matplotlib folium mapclassify"
   ]
  },
  {
   "cell_type": "markdown",
   "metadata": {
    "editable": true,
    "slideshow": {
     "slide_type": "skip"
    },
    "tags": []
   },
   "source": [
    "---"
   ]
  },
  {
   "cell_type": "markdown",
   "metadata": {
    "editable": true,
    "slideshow": {
     "slide_type": "slide"
    },
    "tags": []
   },
   "source": [
    "<h2>4. Preparación de los Datos Catastrales del SII</h2>\n",
    "\n",
    "<p>\n",
    "A lo largo de este semestre, trabajaremos con las bases de datos proporcionadas por el Servicio de Impuestos Internos (SII) de Chile.\n",
    "En particular, y a modo de ejemplo, en nuestros laboratorios nos enfocaremos en <strong>Puerto Montt</strong>.\n",
    "</p>\n",
    "\n",
    "<br>\n",
    "\n",
    "<img src=\"assets/sii.png\" alt=\"SII\" style=\"height: 100px; width: auto; display: block; margin-top: 5px;\">"
   ]
  },
  {
   "cell_type": "markdown",
   "metadata": {
    "editable": true,
    "slideshow": {
     "slide_type": "subslide"
    },
    "tags": []
   },
   "source": [
    "### Estructura de los Datos\n",
    "\n",
    "El **Detalle Catastral del SII** contiene información detallada sobre los bienes raíces de todo el país, denominados por el SII, y de aquí en adelante, **líneas de construcción** (que más adelante llamaremos **agentes**). \n",
    "\n",
    "- **Identificadores**: Cada línea de construcción, que representa una edificación específica, está ubicada dentro de un predio. A su vez, cada predio se encuentra en una manzana, y esta pertenece a una comuna. La relación entre el predio y la manzana genera un identificador llamado rol, que es utilizado por el SII para estimar el avalúo fiscal de los bienes inmuebles en todo el territorio.\n",
    "\n",
    "- **Características de la Línea de Construcción**: Se detalla la superficie construida de cada línea de construcción, así como la superficie total del terreno correspondiente al predio al que pertenece. Además, se registra el destino o uso de suelo principal (por ejemplo, habitacional, comercial o industrial), junto con la calidad de la construcción, que indica su nivel constructivo. También se incluyen atributos adicionales como el año de construcción y el avalúo fiscal del bien inmueble.\n",
    "\n",
    "De esta manera, el **Detalle Catastral del SII** organiza la información desde las líneas de construcción individuales hasta las comunas a las que pertenecen, proporcionando datos detallados a nivel de **líneas de construcción / agentes**, con sus respectivos atributos y localización geográfica."
   ]
  },
  {
   "cell_type": "markdown",
   "metadata": {
    "editable": true,
    "slideshow": {
     "slide_type": "subslide"
    },
    "tags": []
   },
   "source": [
    "### Archivo Preliminar\n",
    "\n",
    "Se cuenta con un archivo GeoJSON  preprocesado que contiene las líneas de construcción de Puerto Montt con una columna de código *h3* en resolución 12. Más adelante en el laboratorio, profundizaremos sobre la teselación *h3*.\n",
    "\n",
    "- **Archivo**: `catastro.geojson`"
   ]
  },
  {
   "cell_type": "markdown",
   "metadata": {
    "editable": true,
    "slideshow": {
     "slide_type": "skip"
    },
    "tags": []
   },
   "source": [
    "---"
   ]
  },
  {
   "cell_type": "markdown",
   "metadata": {
    "editable": true,
    "slideshow": {
     "slide_type": "slide"
    },
    "tags": []
   },
   "source": [
    "## 5. Carga y Exploración de los Datos Catastrales"
   ]
  },
  {
   "cell_type": "markdown",
   "metadata": {
    "editable": true,
    "slideshow": {
     "slide_type": "subslide"
    },
    "tags": []
   },
   "source": [
    "### Cargar los GeoJSON con GeoPandas\n",
    "\n",
    "<br>\n"
   ]
  },
  {
   "cell_type": "code",
   "execution_count": null,
   "metadata": {
    "editable": true,
    "slideshow": {
     "slide_type": "fragment"
    },
    "tags": []
   },
   "outputs": [],
   "source": [
    "# importar las librerías necesarias\n",
    "import pandas as pd\n",
    "import geopandas as gpd\n",
    "\n",
    "# (opcional) configurar opciones de Pandas para una mejor visualización\n",
    "pd.set_option('display.max_columns', None)\n",
    "\n",
    "# cargar la capa de líneas de construcción\n",
    "catastro = gpd.read_file(\"catastro.geojson\")\n",
    "\n",
    "# filtrar para quedarnos con las líneas de construcción de Puerto Montt\n",
    "catastro = catastro[catastro['comuna'] == 10301]\n",
    "\n",
    "# modificamos el CRS del GeoDataFrame a WGS84 (EPSG:4326)\n",
    "catastro = catastro.to_crs(epsg=4326)"
   ]
  },
  {
   "cell_type": "code",
   "execution_count": null,
   "metadata": {
    "editable": true,
    "slideshow": {
     "slide_type": "fragment"
    },
    "tags": []
   },
   "outputs": [],
   "source": [
    "# mostrar las primeras filas del GeoDataFrame\n",
    "catastro.head()"
   ]
  },
  {
   "cell_type": "code",
   "execution_count": null,
   "metadata": {
    "editable": true,
    "slideshow": {
     "slide_type": "fragment"
    },
    "tags": []
   },
   "outputs": [],
   "source": [
    "# mostrar las 100 primeras filas del GeoDataFrame en un mapa con OpenStreetMap\n",
    "catastro[:100].explore()"
   ]
  },
  {
   "cell_type": "code",
   "execution_count": null,
   "metadata": {
    "editable": true,
    "slideshow": {
     "slide_type": "fragment"
    },
    "tags": []
   },
   "outputs": [],
   "source": [
    "# descripción general de las columnas del GeoDataFrame\n",
    "catastro.describe()"
   ]
  },
  {
   "cell_type": "code",
   "execution_count": null,
   "metadata": {
    "editable": true,
    "slideshow": {
     "slide_type": "fragment"
    },
    "tags": []
   },
   "outputs": [],
   "source": [
    "# filtrar el GeoDataFrame con GeoPandas (por calidad de la construcción y superficie construida)\n",
    "catastro_filtrado = catastro[(catastro['calidad'] == 4) & (catastro['superficie_construida'] > 50)]\n",
    "\n",
    "# mostrar las primeras filas del GeoDataFrame filtrado\n",
    "catastro_filtrado.head()"
   ]
  },
  {
   "cell_type": "code",
   "execution_count": null,
   "metadata": {
    "editable": true,
    "slideshow": {
     "slide_type": "fragment"
    },
    "tags": []
   },
   "outputs": [],
   "source": [
    "# revisar el tipo de datos de las columnas del GeoDataFrame\n",
    "print(catastro.dtypes)"
   ]
  },
  {
   "cell_type": "code",
   "execution_count": null,
   "metadata": {
    "editable": true,
    "slideshow": {
     "slide_type": "fragment"
    },
    "tags": []
   },
   "outputs": [],
   "source": [
    "# modificar el tipo de datos de una columna del GeoDataFrame\n",
    "catastro['superficie_terreno'] = catastro['superficie_terreno'].astype(int)"
   ]
  },
  {
   "cell_type": "code",
   "execution_count": null,
   "metadata": {
    "editable": true,
    "slideshow": {
     "slide_type": "fragment"
    },
    "tags": []
   },
   "outputs": [],
   "source": [
    "# modificar el nombre de una columna del GeoDataFrame\n",
    "catastro_renamed = catastro.rename(columns={'destino': 'uso_de_suelo'})\n",
    "\n",
    "# retornar el nombre de todas las comunas presentes en el GeoDataFrame\n",
    "print(list(catastro_renamed.columns))"
   ]
  },
  {
   "cell_type": "code",
   "execution_count": null,
   "metadata": {
    "editable": true,
    "slideshow": {
     "slide_type": "fragment"
    },
    "tags": []
   },
   "outputs": [],
   "source": [
    "# modificar una columna del GeoDataFrame con una función lambda\n",
    "catastro['destino'] = catastro.apply(lambda row: \n",
    "                                     'habitacional_no_considerado' if (row['destino']=='habitacional')&(row['superficie_construida']<=20) \n",
    "                                     else row['destino'], axis=1)"
   ]
  },
  {
   "cell_type": "code",
   "execution_count": null,
   "metadata": {
    "editable": true,
    "slideshow": {
     "slide_type": "fragment"
    },
    "tags": []
   },
   "outputs": [],
   "source": [
    "# agrupar el GeoDataFrame por una columna y sumar/promediar/contar los valores de otra columna\n",
    "catastro_grouped = catastro.groupby('h3').agg({'superficie_terreno': 'mean', 'superficie_construida': 'sum', 'calidad': 'count'}).reset_index()\n",
    "catastro_grouped = catastro_grouped.rename(columns={'superficie_terreno': 'superficie_terreno_promedio', \n",
    "                                                    'superficie_construida': 'superficie_construida_suma', \n",
    "                                                    'calidad': 'unidades'})\n",
    "\n",
    "# ordenar el GeoDataFrame agrupado por una columna\n",
    "catastro_grouped = catastro_grouped.sort_values(by='superficie_construida_suma', ascending=False)\n",
    "\n",
    "# mostrar las primeras filas del GeoDataFrame agrupado\n",
    "catastro_grouped.head()"
   ]
  },
  {
   "cell_type": "markdown",
   "metadata": {
    "editable": true,
    "slideshow": {
     "slide_type": "skip"
    },
    "tags": []
   },
   "source": [
    "---"
   ]
  },
  {
   "cell_type": "markdown",
   "metadata": {
    "editable": true,
    "slideshow": {
     "slide_type": "slide"
    },
    "tags": []
   },
   "source": [
    "<h2>6. Teselación <em>h3</em></h2>\n",
    "\n",
    "<p>\n",
    "El sistema <a href=\"https://h3geo.org\"><strong>h3</strong></a> es una biblioteca de indexación geoespacial desarrollada por Uber que permite dividir la superficie de la Tierra en celdas hexagonales jerárquicas. Este sistema facilita el análisis espacial al proporcionar una estructura de teselación uniforme y eficiente que es particularmente útil para tareas como el análisis de proximidad, agregación de datos y visualización.\n",
    "</p>\n",
    "\n",
    "<br>\n",
    "<img src=\"assets/h3.png\" alt=\"h3\" style=\"height: 200px; width: auto; display: block; margin-top: 5px\">"
   ]
  },
  {
   "cell_type": "markdown",
   "metadata": {
    "editable": true,
    "jp-MarkdownHeadingCollapsed": true,
    "slideshow": {
     "slide_type": "subslide"
    },
    "tags": []
   },
   "source": [
    "### ¿Qué es *h3*?\n",
    "\n",
    "- **Hierarchical Hexagonal Spatial Indexing System**: *h3* divide la Tierra en celdas hexagonales de diferentes resoluciones, permitiendo un análisis a múltiples escalas.\n",
    "\n",
    "- **Resoluciones**: *h3* soporta 16 resoluciones, donde cada resolución aumenta el número de celdas y disminuye el tamaño de cada celda. Por ejemplo, la resolución 0 tiene 122 celdas, mientras que la resolución 15 tiene millones de celdas.\n",
    "\n",
    "- **Ventajas de las Celdas Hexagonales**:\n",
    "\n",
    "  - **Uniformidad**: Menos distorsión en comparación con celdas cuadradas o triangulares.\n",
    "\n",
    "  - **Conectividad**: Cada celda tiene seis vecinos, facilitando cálculos de proximidad.\n",
    "\n",
    "  - **Escalabilidad**: Adecuado para grandes conjuntos de datos geoespaciales."
   ]
  },
  {
   "cell_type": "markdown",
   "metadata": {
    "editable": true,
    "slideshow": {
     "slide_type": "subslide"
    },
    "tags": []
   },
   "source": [
    "### Funciones Comunes de la Librería *h3*\n",
    "\n",
    "- **`h3.latlng_to_cell(lat, lng, resolution)`**: Convierte coordenadas geográficas a un índice *h3* en la resolución especificada.\n",
    "\n",
    "- **`h3.cell_to_latlng(h3_index)`**: Convierte un índice *h3* a coordenadas geográficas, a partir del centroide de la celda.\n",
    "\n",
    "- **`h3.cell_to_boundary(h3_index, geo_json=True)`**: Obtiene los vértices de la celda *h3* como una lista de coordenadas."
   ]
  },
  {
   "cell_type": "markdown",
   "metadata": {
    "editable": true,
    "slideshow": {
     "slide_type": "subslide"
    },
    "tags": []
   },
   "source": [
    "### Reindexación del Catastro en Puerto Montt\n",
    "\n",
    "En este laboratorio, utilizaremos las herramientas de *h3* para reindexar geográficamente los predios del catastro de Puerto Montt a una **resolución 9**. Esta resolución ofrece un buen equilibrio entre detalle y rendimiento para el análisis espacial.\n",
    "\n",
    "<br>\n"
   ]
  },
  {
   "cell_type": "code",
   "execution_count": null,
   "metadata": {
    "editable": true,
    "slideshow": {
     "slide_type": "fragment"
    },
    "tags": []
   },
   "outputs": [],
   "source": [
    "# importamos la librería h3 y Polygon de shapely\n",
    "import h3\n",
    "from shapely.geometry import Polygon\n",
    "\n",
    "# generamos una copia del GeoDataFrame original\n",
    "catastro_h3 = catastro.copy()\n",
    "\n",
    "# reindexamos las celdas h3 en resolución 9\n",
    "catastro_h3['h3'] = catastro_h3.apply(lambda row: h3.latlng_to_cell(row['geometry'].centroid.y, row['geometry'].centroid.x, 9), axis=1)\n",
    "\n",
    "# actualizar la geometría del GeoDataFrame con las celdas h3 en resolución 9\n",
    "catastro_h3['coords'] = catastro_h3.apply(lambda row: h3.cell_to_boundary(row['h3']), axis=1)\n",
    "catastro_h3['geometry'] = catastro_h3.apply(lambda row: Polygon([(lng, lat) for lat, lng in row['coords']]), axis=1)\n",
    "catastro_h3 = catastro_h3.drop(columns=['coords'])\n",
    "catastro_h3 = gpd.GeoDataFrame(catastro_h3, geometry='geometry')\n",
    "                          \n",
    "# mostrar las 100 primeras filas del GeoDataFrame en resolución 9 en un mapa con OpenStreetMap\n",
    "catastro_h3[:100].explore()"
   ]
  },
  {
   "cell_type": "markdown",
   "metadata": {
    "editable": true,
    "slideshow": {
     "slide_type": "skip"
    },
    "tags": []
   },
   "source": [
    "---"
   ]
  },
  {
   "cell_type": "markdown",
   "metadata": {
    "editable": true,
    "slideshow": {
     "slide_type": "slide"
    },
    "tags": []
   },
   "source": [
    "## 7. Celdas con Información Agregada\n",
    "\n",
    "En esta sección, agregaremos la información del uso de suelo por cada celda *h3*, con el objetivo de caracterizar su entorno construido. Esto incluye sumar el total de metros cuadrados construidos y el número de unidades por cada uso de suelo dentro de cada celda *h3*."
   ]
  },
  {
   "cell_type": "markdown",
   "metadata": {
    "editable": true,
    "slideshow": {
     "slide_type": "subslide"
    },
    "tags": []
   },
   "source": [
    "### Pasos a Realizar:\n",
    "\n",
    "1. **Agrupación por Celdas *h3***: Agruparemos los datos catastrales de `catastro_h3` por la columna de celdas *h3* para sumar los atributos relevantes y crear `celdas_h3`.\n",
    "\n",
    "2. **Creación de una Tabla Pivote**: Generaremos una tabla pivote llamada `celdas_h3_pivot` que contenga la superficie construida y el número de unidades por tipo de uso de suelo.\n",
    "\n",
    "3. **Integración de Geometrías**: Fusionaremos la tabla pivote `celdas_h3_pivot` con las geometrías de las celdas *h3* de `celdas_h3` para crear el GeoDataFrame respectivo.\n",
    "\n",
    "4. **Visualización de Datos Agregados**: Visualizaremos los datos agregados para identificar patrones y tendencias espaciales.\n",
    "\n",
    "<br>"
   ]
  },
  {
   "cell_type": "code",
   "execution_count": null,
   "metadata": {
    "editable": true,
    "slideshow": {
     "slide_type": "fragment"
    },
    "tags": []
   },
   "outputs": [],
   "source": [
    "# agrupar el GeoDataFrame con celdas h3 en resolución 9 y una única geometría\n",
    "celdas_h3 = catastro_h3.dissolve(by='h3', aggfunc='sum').reset_index()[['h3', 'geometry']]"
   ]
  },
  {
   "cell_type": "code",
   "execution_count": null,
   "metadata": {
    "editable": true,
    "slideshow": {
     "slide_type": "fragment"
    },
    "tags": []
   },
   "outputs": [],
   "source": [
    "# crear una tabla pivote con el GeoDataFrame agrupado\n",
    "celdas_h3_pivot = catastro_h3.pivot_table(\n",
    "        index='h3',\n",
    "        columns='destino',\n",
    "        aggfunc={'superficie_construida': 'sum', 'destino': 'count'},\n",
    "        fill_value=0).reset_index()\n",
    "\n",
    "# renombrar las columnas de la tabla pivote\n",
    "celdas_h3_pivot.columns = [\n",
    "    (col[0].replace('superficie_construida', 'm2_') + col[1] if 'superficie_construida' in col[0] else 'n_' + col[1] if col[0] == 'destino' else col[0])\n",
    "    for col in celdas_h3_pivot.columns\n",
    "]\n",
    " \n",
    "# agregar la geometría de las celdas h3 en resolución 9 a la tabla pivote y convertirlo en un GeoDataFrame\n",
    "celdas_h3_pivot = celdas_h3_pivot.merge(celdas_h3, on='h3')\n",
    "celdas_h3_pivot = gpd.GeoDataFrame(celdas_h3_pivot, geometry='geometry')\n",
    "\n",
    "# mostrar las primeras filas del GeoDataFrame con la tabla pivote\n",
    "celdas_h3_pivot.head()"
   ]
  },
  {
   "cell_type": "code",
   "execution_count": null,
   "metadata": {
    "editable": true,
    "slideshow": {
     "slide_type": "fragment"
    },
    "tags": []
   },
   "outputs": [],
   "source": [
    "# mostrar todas las celdas y categorizarlas por el número de unidades habitacionales\n",
    "celdas_h3_pivot.explore(column='n_habitacional', scheme='NaturalBreaks', k=10)"
   ]
  },
  {
   "cell_type": "markdown",
   "metadata": {
    "editable": true,
    "slideshow": {
     "slide_type": "skip"
    },
    "tags": []
   },
   "source": [
    "---"
   ]
  },
  {
   "cell_type": "markdown",
   "metadata": {
    "editable": true,
    "slideshow": {
     "slide_type": "slide"
    },
    "tags": []
   },
   "source": [
    "## 8. Guardar los Datos Procesados\n",
    "\n",
    "Una vez que hemos **actualizado la resolución de *h3* en el catastro** y hemos **agregado la información relevante a cada celda**, es crucial que guardemos estos datos procesados para su uso en futuros análisis y laboratorios. Exportaremos `catastro_h3` y `celdas_h3` a archivos GeoJSON, asegurándonos de conservar toda la información geoespacial y los atributos actualizados."
   ]
  },
  {
   "cell_type": "markdown",
   "metadata": {
    "editable": true,
    "slideshow": {
     "slide_type": "subslide"
    },
    "tags": []
   },
   "source": [
    "### Exportar a GeoJSON\n",
    "\n",
    "Utilizaremos la función `to_file` de GeoPandas para guardar los GeoDataFrames en el formato GeoJSON. Este formato es ampliamente compatible y facilita el intercambio de datos geoespaciales entre diferentes plataformas y herramientas GIS. Recordemos que:\n",
    "\n",
    "- **catastro_h3**: Contiene información detallada de cada agente (línea de construcción) y de su localización geográfica con el índice de *h3*.\n",
    "\n",
    "- **celdas_h3_pivot**: Contiene información agregada por cada celda *h3*, con respecto a los tipos de uso de suelo.\n",
    "\n",
    "<br>"
   ]
  },
  {
   "cell_type": "code",
   "execution_count": null,
   "metadata": {
    "editable": true,
    "slideshow": {
     "slide_type": "fragment"
    },
    "tags": []
   },
   "outputs": [],
   "source": [
    "# exportar el GeoDataFrame 'catastro_h3' a un archivo GeoJSON\n",
    "catastro_h3.to_file(\"agentes.geojson\")\n",
    "\n",
    "# exportar el GeoDataFrame 'celdas_h3' a un archivo GeoJSON\n",
    "celdas_h3_pivot.to_file(\"celdas.geojson\")"
   ]
  },
  {
   "cell_type": "markdown",
   "metadata": {
    "editable": true,
    "slideshow": {
     "slide_type": "slide"
    },
    "tags": []
   },
   "source": [
    "**Fin del Laboratorio 1**\n",
    "\n",
    "---\n",
    "\n",
    "En el próximo laboratorio, nos enfocaremos en el análisis y manipulación de los datos utilizando operaciones básicas y avanzadas de GeoPandas."
   ]
  }
 ],
 "metadata": {
  "kernelspec": {
   "display_name": "Python 3",
   "language": "python",
   "name": "python3"
  },
  "language_info": {
   "codemirror_mode": {
    "name": "ipython",
    "version": 3
   },
   "file_extension": ".py",
   "mimetype": "text/x-python",
   "name": "python",
   "nbconvert_exporter": "python",
   "pygments_lexer": "ipython3",
   "version": "3.13.1"
  },
  "rise": {
   "auto_select": "none",
   "center": true,
   "controls": false,
   "overlay": "<link rel='stylesheet' href='rise.css'>",
   "progress": false,
   "scroll": true,
   "slideNumber": false,
   "transition": "fade"
  }
 },
 "nbformat": 4,
 "nbformat_minor": 4
}
