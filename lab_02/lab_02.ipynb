{
 "cells": [
  {
   "cell_type": "markdown",
   "metadata": {
    "editable": true,
    "slideshow": {
     "slide_type": "slide"
    },
    "tags": []
   },
   "source": [
    "# Laboratorio 2\n",
    "\n",
    "## Análisis y Manipulación de Datos Geoespaciales con GeoPandas\n",
    "\n",
    "Ayudante: Janus Leonhardt | jaleonhardt@uc.cl\n",
    "\n",
    "Profesor: Ricardo Hurtubia | rhurtubia@uc.cl"
   ]
  },
  {
   "cell_type": "markdown",
   "metadata": {
    "editable": true,
    "slideshow": {
     "slide_type": "slide"
    },
    "tags": []
   },
   "source": [
    "## Objetivos del Laboratorio:\n",
    "\n",
    "1. Profundizar en la manipulación de datos geoespaciales con GeoPandas a partir de lo revisado en el Laboratorio 1, incluyendo las operaciones básicas de unión espacial, filtros y agregaciones.\n",
    "\n",
    "2. Aprender a unir información del Censo 2017 y del Sistema de Indicadores y Estándares de Desarrollo Urbano (SIEDU) con los datos catastrales del SII.\n",
    "\n",
    "3. Consolidar un archivo geográfico de celdas con información agregada que integra variables catastrales y datos externos del Censo y SIEDU.\n",
    "\n",
    "4. Revisar algunos métodos de visualización de datos geoespaciales para identificar patrones relevantes a nivel de celdas."
   ]
  },
  {
   "cell_type": "markdown",
   "metadata": {
    "editable": true,
    "slideshow": {
     "slide_type": "slide"
    },
    "tags": []
   },
   "source": [
    "## 1. Repaso del Laboratorio 1\n",
    "\n",
    "En el **Laboratorio 1**, aprendimos los conceptos básicos de GIS e introducimos la base de datos del \"Detalle Catastral de Bienes Raíces\" del Servicio de Impuestos Internos (SII) de Chile, filtrado para Puerto Montt. \n",
    "\n",
    "### Resumen de los Pasos en el Lab 1:\n",
    "\n",
    "1. **Carga y Exploración de Datos**: Usamos `GeoPandas` para leer y mostrar los archivos GeoJSON del catastro del SII. \n",
    "\n",
    "2. **Reindexación H3**: Se aplicó la librería `h3` para regenerar un índice hexagonal geoespacial a una resolución 9.\n",
    "\n",
    "3. **Agrupación por Celda**: Se mostraron métodos para agrupar información catastral por *h3*, en particular respecto a los metros cuadrados y unidades por tipos de uso de suelo.\n",
    "\n",
    "4. **Exportación de Datos**: Se guardaron los GeoDataFrames resultantes (`lab01/agentes.geojson` y `lab01/celdas.geojson`) para su uso en este laboratorio."
   ]
  },
  {
   "cell_type": "markdown",
   "metadata": {
    "editable": true,
    "slideshow": {
     "slide_type": "skip"
    },
    "tags": []
   },
   "source": [
    "---"
   ]
  },
  {
   "cell_type": "markdown",
   "metadata": {
    "editable": true,
    "slideshow": {
     "slide_type": "slide"
    },
    "tags": []
   },
   "source": [
    "## 2. Instalación y Configuración del Entorno de Trabajo"
   ]
  },
  {
   "cell_type": "markdown",
   "metadata": {
    "editable": true,
    "slideshow": {
     "slide_type": "subslide"
    },
    "tags": []
   },
   "source": [
    "### Requisitos Previos\n",
    "\n",
    "- Python 3.7 o superior\n",
    "\n",
    "- Jupyter Notebook\n",
    "\n",
    "- **Librerías de Python**:\n",
    "\n",
    "  - pandas  \n",
    "  - geopandas  \n",
    "  - shapely  \n",
    "  - h3  \n",
    "  - matplotlib  \n",
    "  - folium  \n",
    "  - mapclassify  \n",
    "  - **seaborn**"
   ]
  },
  {
   "cell_type": "markdown",
   "metadata": {
    "editable": true,
    "slideshow": {
     "slide_type": "subslide"
    },
    "tags": []
   },
   "source": [
    "### Instalación de Librerías\n",
    "\n",
    "Recordemos que las librerías deben haber quedado correctamente instaladas en nuestro entorno virtual (`.conda` o `.venv`) creado en el Laboratorio 1. En caso contrario, se debe ejecutar la siguiente línea de código.\n",
    "\n",
    "`!pip install pandas geopandas shapely h3 matplotlib folium mapclassify seaborn`\n",
    "\n",
    "<br>"
   ]
  },
  {
   "cell_type": "code",
   "execution_count": null,
   "metadata": {
    "editable": true,
    "slideshow": {
     "slide_type": "fragment"
    },
    "tags": []
   },
   "outputs": [],
   "source": [
    "# instalar las librerías faltantes\n",
    "!pip install seaborn"
   ]
  },
  {
   "cell_type": "markdown",
   "metadata": {
    "editable": true,
    "slideshow": {
     "slide_type": "skip"
    },
    "tags": []
   },
   "source": [
    "---"
   ]
  },
  {
   "cell_type": "markdown",
   "metadata": {
    "editable": true,
    "slideshow": {
     "slide_type": "slide"
    },
    "tags": []
   },
   "source": [
    "## 3. Carga de Datos Previos\n",
    "\n",
    "En este laboratorio, partiremos desde los archivos generados en el Laboratorio 1, los cuales contienen la información catastral relacionada con celdas *h3*.\n",
    "\n",
    "- **`agentes.geojson`**: Contiene información detallada de cada línea de construcción (agente) en Puerto Montt, con un índice *h3*.\n",
    "\n",
    "- **`celdas.geojson`**: Contiene información agregada por cada celda *h3*, incluyendo la geometría hexagonal y atributos del entorno construido que se obtienen de la agregación de las líneas de construcción.\n",
    "\n",
    "<br>"
   ]
  },
  {
   "cell_type": "code",
   "execution_count": null,
   "metadata": {
    "editable": true,
    "slideshow": {
     "slide_type": "fragment"
    },
    "tags": []
   },
   "outputs": [],
   "source": [
    "import pandas as pd\n",
    "import geopandas as gpd\n",
    "\n",
    "# (opcional) ajustes de visualización\n",
    "pd.set_option('display.max_columns', None)\n",
    "\n",
    "# cargar el catastro a nivel de líneas de construcción indexado por H3\n",
    "agentes = gpd.read_file(\"../lab_01/agentes.geojson\")\n",
    "\n",
    "# cargar la capa de celdas con información agregada\n",
    "celdas = gpd.read_file(\"../lab_01/celdas.geojson\")"
   ]
  },
  {
   "cell_type": "code",
   "execution_count": null,
   "metadata": {
    "editable": true,
    "slideshow": {
     "slide_type": "fragment"
    },
    "tags": []
   },
   "outputs": [],
   "source": [
    "# inspeccionar las primeras filas de la tabla de agentes\n",
    "agentes.head()"
   ]
  },
  {
   "cell_type": "code",
   "execution_count": null,
   "metadata": {
    "editable": true,
    "slideshow": {
     "slide_type": "fragment"
    },
    "tags": []
   },
   "outputs": [],
   "source": [
    "# inspeccionar las primeras filas de la tabla de celdas\n",
    "celdas.head()"
   ]
  },
  {
   "cell_type": "code",
   "execution_count": null,
   "metadata": {
    "editable": true,
    "slideshow": {
     "slide_type": "fragment"
    },
    "tags": []
   },
   "outputs": [],
   "source": [
    "# revisamos el sistema de referencia de coordenadas de ambas capas\n",
    "print(\"CRS de catastro_h3:\", agentes.crs)\n",
    "print(\"CRS de celdas_h3:\", celdas.crs)"
   ]
  },
  {
   "cell_type": "markdown",
   "metadata": {
    "editable": true,
    "slideshow": {
     "slide_type": "skip"
    },
    "tags": []
   },
   "source": [
    "---"
   ]
  },
  {
   "cell_type": "markdown",
   "metadata": {
    "editable": true,
    "slideshow": {
     "slide_type": "slide"
    },
    "tags": []
   },
   "source": [
    "## 4. Introducción a los Datos del Censo 2017\n",
    "\n",
    "En Chile, el **Censo de Población y Vivienda 2017** es una fuente esencial de datos sociodemográficos y de uso de viviendas/hogares. Durante la planificación y ejecución, el **INE (Instituto Nacional de Estadísticas)** utiliza una zonificación censal diferente de la división del SII, basada en lo siguiente.\n",
    "\n",
    "1. **Manzanas Urbanas**: Agrupan o dividen el territorio urbano en manzanas, incluyendo variables como población total, número de viviendas, etc.\n",
    "\n",
    "2.\t**Entidades Rurales**: Segmentan el área rural (pueblos, aldeas, sectores con menor densidad de construcción), incluyendo variables de caracterización similares a las manzanas urbanas.\n",
    "\n",
    "<br>\n",
    "\n",
    "<img src=\"assets/censo.png\" alt=\"SII\" style=\"height: 150px; width: auto; display: block; margin-top: 5px;\">\n",
    "\n",
    "<br>"
   ]
  },
  {
   "cell_type": "code",
   "execution_count": null,
   "metadata": {
    "editable": true,
    "slideshow": {
     "slide_type": "fragment"
    },
    "tags": []
   },
   "outputs": [],
   "source": [
    "# cargar manzanas urbanas y entidades rurales\n",
    "manzanas_censales = gpd.read_file(\"manzanas_censales.geojson\")\n",
    "entidades_censales = gpd.read_file(\"entidades_censales.geojson\")\n",
    "\n",
    "# filtrar las manzanas y entidades de Puerto Montt\n",
    "manzanas_censales = manzanas_censales[manzanas_censales['COMUNA'] == 'PUERTO MONTT']\n",
    "entidades_censales = entidades_censales[entidades_censales['NOMBRE_COM'] == 'PUERTO MONTT'] "
   ]
  },
  {
   "cell_type": "code",
   "execution_count": null,
   "metadata": {
    "editable": true,
    "slideshow": {
     "slide_type": "fragment"
    },
    "tags": []
   },
   "outputs": [],
   "source": [
    "# inspeccionar las primeras filas de la tabla de manzanas\n",
    "manzanas_censales.head()"
   ]
  },
  {
   "cell_type": "code",
   "execution_count": null,
   "metadata": {
    "editable": true,
    "slideshow": {
     "slide_type": "fragment"
    },
    "tags": []
   },
   "outputs": [],
   "source": [
    "# inspeccionar las primeras filas de la tabla de entidades\n",
    "entidades_censales.head()"
   ]
  },
  {
   "cell_type": "code",
   "execution_count": null,
   "metadata": {
    "editable": true,
    "slideshow": {
     "slide_type": "fragment"
    },
    "tags": []
   },
   "outputs": [],
   "source": [
    "# verificar y unificar CRS con celdas_h3\n",
    "print(\"CRS Manzanas Censales:\", manzanas_censales.crs)\n",
    "print(\"CRS Entidades Censales:\", entidades_censales.crs)"
   ]
  },
  {
   "cell_type": "code",
   "execution_count": null,
   "metadata": {
    "editable": true,
    "slideshow": {
     "slide_type": "fragment"
    },
    "tags": []
   },
   "outputs": [],
   "source": [
    "# filtrar y unificar el nombre de las columnas de manzanas y entidades\n",
    "manzanas_censales = manzanas_censales[['PERSONAS', 'TOTAL_VIVI', 'TOT_HOGARE', 'geometry']]\n",
    "entidades_censales = entidades_censales[['TOTAL_PERSONAS', 'TOTAL_VIVIENDAS', 'CANTIDAD_HOGARES', 'geometry']]\n",
    "\n",
    "# modificamos los nombres de las columnas\n",
    "manzanas_censales.columns = ['personas', 'viviendas', 'hogares', 'geometry']\n",
    "entidades_censales.columns = ['personas', 'viviendas', 'hogares', 'geometry']\n",
    "\n",
    "# transformamos \"personas\" a valores enteros\n",
    "entidades_censales['personas'] = entidades_censales['personas'].astype(int)\n",
    "\n",
    "# unir manzanas y entidades\n",
    "censo = gpd.GeoDataFrame(pd.concat([manzanas_censales, entidades_censales], ignore_index=True))"
   ]
  },
  {
   "cell_type": "code",
   "execution_count": null,
   "metadata": {
    "editable": true,
    "slideshow": {
     "slide_type": "fragment"
    },
    "tags": []
   },
   "outputs": [],
   "source": [
    "# mostrar el GeoDataFrame resultante\n",
    "censo.explore(column='viviendas', scheme='NaturalBreaks', k=10)"
   ]
  },
  {
   "cell_type": "code",
   "execution_count": null,
   "metadata": {
    "editable": true,
    "slideshow": {
     "slide_type": "fragment"
    },
    "tags": []
   },
   "outputs": [],
   "source": [
    "# modificamos el CRS del GeoDataFrame a UTM 19S (EPSG:32719)\n",
    "censo = censo.to_crs(epsg=32719)\n",
    "\n",
    "# calculamos la densidad poblacional\n",
    "censo['densidad_poblacional'] = censo['personas'] / censo['geometry'].area\n",
    "\n",
    "# volvemos al CRS WGS84 (EPSG:4326)\n",
    "censo = censo.to_crs(epsg=4326) "
   ]
  },
  {
   "cell_type": "code",
   "execution_count": null,
   "metadata": {
    "editable": true,
    "slideshow": {
     "slide_type": "fragment"
    },
    "tags": []
   },
   "outputs": [],
   "source": [
    "# mostrar el GeoDataFrame resultante\n",
    "censo.explore(column='densidad_poblacional', scheme='NaturalBreaks', k=10)"
   ]
  },
  {
   "cell_type": "markdown",
   "metadata": {
    "editable": true,
    "slideshow": {
     "slide_type": "skip"
    },
    "tags": []
   },
   "source": [
    "---"
   ]
  },
  {
   "cell_type": "markdown",
   "metadata": {
    "editable": true,
    "slideshow": {
     "slide_type": "slide"
    },
    "tags": []
   },
   "source": [
    "## 5. Ejemplo de Integración de Datos Censales\n",
    "\n",
    "Ahora, el objetivo es **transferir la información de personas, viviendas y hogares** (proveniente de manzanas y/o entidades censales) a nuestras celdas. Para ello, **usaremos `overlay`** de **GeoPandas**, que nos permitirá calcular la **proporción de área** superpuesta entre cada polígono censal y las celdas, asignando así de forma proporcional las variables de interés (personas, viviendas, hogares)."
   ]
  },
  {
   "cell_type": "markdown",
   "metadata": {
    "editable": true,
    "slideshow": {
     "slide_type": "subslide"
    },
    "tags": []
   },
   "source": [
    "### Lógica del `overlay` en GeoPandas\n",
    "\n",
    "En GeoPandas, el método `overlay` se enfoca en crear nuevas geometrías basadas en la intersección (u otros mecanismos) de dos GeoDataFrames. En particular, las operaciones soportadas por `overlay` en GeoPandas son las siguientes.\n",
    "\n",
    "- **`intersection`**: Identifica las geometrías comunes entre ambos GeoDataFrames.\n",
    "\n",
    "- **`union`**: Combina todas las geometrías y atributos.\n",
    "\n",
    "- **`difference`**: Determina las geometrías de un GeoDataFrame que no se superponen con el otro.\n",
    "\n",
    "- **`symmetric_difference`**: Retorna las geometrías no comunes a ambos GeoDataFrames.\n",
    "\n",
    "**Ejemplo**: Encontrar la intersección de dos conjuntos de polígonos.\n",
    "\n",
    "`result = gpd.overlay(polygons1_gdf, polygons2_gdf, how=\"intersection\")`"
   ]
  },
  {
   "cell_type": "markdown",
   "metadata": {
    "editable": true,
    "slideshow": {
     "slide_type": "subslide"
    },
    "tags": []
   },
   "source": [
    "### Integración de Área por Proporción de Área\n",
    "\n",
    "Para manejar casos donde una celda se sobrepone a múltiples polígonos, en este caso las manzanas y entidades censales, aplicaremos una proporción de área para ponderar la contribución de cada polígono censal a la celda.\n",
    "\n",
    "Sea $P_{c}$ el conjunto de polígonos censales que se intersectan con la celda c, que podemos determinar a través del método `overlay` de GeoPandas; sea $A_{cp}$ el área de la intersección entre la celda c y el polígono p; sea $A_{p}$ el área total del polígono censal p; y $q_{p}^{v}$  el valor de la variable v en el polígono p (p. ej., personas, viviendas, hogares). Luego, el valor de la variable v en la celda c será:\n",
    "\n",
    "$q_{c}^{v} = \\sum_{p \\in P_{c}} \\left( \\frac{A_{cp}}{A_{p}} \\right) \\cdot q_{p}^{v}$\n",
    "\n",
    "Esta fórmula asegura que la integración de los datos censales a las celdas se realice de manera proporcional al área de superposición, evitando así sesgos derivados de diferencias en tamaños y formas de los polígonos censales y las celdas.\n",
    "\n",
    "<br>\n"
   ]
  },
  {
   "cell_type": "code",
   "execution_count": null,
   "metadata": {
    "editable": true,
    "slideshow": {
     "slide_type": "fragment"
    },
    "tags": []
   },
   "outputs": [],
   "source": [
    "# reproyectar a un CRS proyectado para cálculos de área precisos\n",
    "celdas_temp = celdas.to_crs(epsg=32719)\n",
    "censo_temp = censo.to_crs(epsg=32719)\n",
    "\n",
    "# agregar campo de área a los polígonos censales\n",
    "censo_temp['area_poligono'] = censo_temp.geometry.area\n",
    "\n",
    "# realizar overlay con how='intersection'\n",
    "celdas_censo_overlay = gpd.overlay(celdas_temp, censo_temp, how='intersection')\n",
    "\n",
    "# calcular el área proporcional de cada intersección (A_cp / A_p)\n",
    "celdas_censo_overlay['area_proporcional'] = celdas_censo_overlay.geometry.area / celdas_censo_overlay['area_poligono']\n",
    "\n",
    "# ajustar variables censales multiplicándolas por 'area_proporcional'\n",
    "celdas_censo_overlay['personas'] = celdas_censo_overlay['personas'] * celdas_censo_overlay['area_proporcional']\n",
    "celdas_censo_overlay['viviendas'] = celdas_censo_overlay['viviendas'] * celdas_censo_overlay['area_proporcional']\n",
    "celdas_censo_overlay['hogares'] = celdas_censo_overlay['hogares'] * celdas_censo_overlay['area_proporcional']\n",
    "\n",
    "# agrupar por h3 para sumar las contribuciones de cada intersección\n",
    "celdas_censo_overlay = celdas_censo_overlay.groupby('h3', as_index=False).agg({\n",
    "    'personas':'sum', 'viviendas':'sum', 'hogares':'sum'})\n",
    "\n",
    "# unir con el GeoDataFrame base de celdas\n",
    "celdas_censo = celdas.merge(celdas_censo_overlay, on='h3', how='left')\n",
    "\n",
    "# reproyectar a EPSG:4326 para visualización\n",
    "celdas_censo = celdas_censo.to_crs(epsg=4326)"
   ]
  },
  {
   "cell_type": "code",
   "execution_count": null,
   "metadata": {
    "editable": true,
    "slideshow": {
     "slide_type": "fragment"
    },
    "tags": []
   },
   "outputs": [],
   "source": [
    "# visualizar la variable 'hogares' en las celdas\n",
    "celdas_censo.explore(column='hogares', scheme='NaturalBreaks', k=10)"
   ]
  },
  {
   "cell_type": "markdown",
   "metadata": {
    "editable": true,
    "slideshow": {
     "slide_type": "skip"
    },
    "tags": []
   },
   "source": [
    "---"
   ]
  },
  {
   "cell_type": "markdown",
   "metadata": {
    "editable": true,
    "slideshow": {
     "slide_type": "slide"
    },
    "tags": []
   },
   "source": [
    "## 6. Introducción al Sistema de Indicadores y Estándares de Desarrollo Urbano (SIEDU)\n",
    "\n",
    "El **SIEDU** es una iniciativa conjunta entre el **Consejo Nacional de Desarrollo Urbano (CNDU)** y el **Instituto Nacional de Estadísticas (INE)** para **medir la calidad de vida** en las ciudades chilenas.\n",
    "\n",
    "Los indicadores del SIEDU se obtienen en gran medida a partir del esfuerzo del INE por georreferenciar los llamados **Bienes Públicos Urbanos** (comisarías de carabineros, paraderos de transporte público, centros de salud primaria, establecimientos de educación básica e inicial, plazas y parques). Estos se representan como **puntos georreferenciados**, y en este laboratorio, en particular, nos enfocaremos en los **paraderos de transporte público** como un ejemplo de integración de datos en nuestras celdas con la zonificación *h3*.\n",
    "\n",
    "<br>\n",
    "\n",
    "<img src=\"assets/siedu.png\" alt=\"SII\" style=\"height: 150px; width: auto; display: block; margin-top: 5px;\">\n",
    "\n",
    "<br>"
   ]
  },
  {
   "cell_type": "code",
   "execution_count": null,
   "metadata": {
    "editable": true,
    "slideshow": {
     "slide_type": "fragment"
    },
    "tags": []
   },
   "outputs": [],
   "source": [
    "# cargar la capa de paraderos y filtrar por comuna\n",
    "paraderos = gpd.read_file(\"paraderos.geojson\")\n",
    "paraderos = paraderos[paraderos['comuna']==10101]\n",
    "\n",
    "# visualizar la capa de paraderos\n",
    "paraderos.explore()"
   ]
  },
  {
   "cell_type": "markdown",
   "metadata": {
    "editable": true,
    "slideshow": {
     "slide_type": "skip"
    },
    "tags": []
   },
   "source": [
    "---"
   ]
  },
  {
   "cell_type": "markdown",
   "metadata": {
    "editable": true,
    "slideshow": {
     "slide_type": "slide"
    },
    "tags": []
   },
   "source": [
    "## 7. Ejemplo de Integración de Paraderos\n",
    "\n",
    "Como parte de la información derivada del SIEDU (o de otras fuentes), queremos **contar cuántos paraderos** hay en cada celda H3. Para esto, utilizaremos la **unión espacial** mediante `sjoin`, dado que tenemos **puntos** (paraderos) y **polígonos** (celdas)."
   ]
  },
  {
   "cell_type": "markdown",
   "metadata": {
    "editable": true,
    "slideshow": {
     "slide_type": "subslide"
    },
    "tags": []
   },
   "source": [
    "### 7.1. Lógica de `sjoin` en GeoPandas\n",
    "\n",
    "En GeoPandas, el método `sjoin`  se enfoca en unir dos conjuntos de datos geoespaciales basándose en una relación espacial entre sus geometrías. En particular, las operaciones soportadas por `sjoin` en GeoPandas son las siguientes.\n",
    "\n",
    "- **`intersects`**: Cuando las geometrías se cruzan o tocan.\n",
    "\n",
    "- **`contains`**: Cuando una geometría contiene a otra.\n",
    "\n",
    "- **`within`**: Cuando una geometría está completamente dentro de otra\n",
    "\n",
    "**Ejemplo**: Unir un conjunto de puntos con polígonos para determinar en qué polígono se encuentra cada punto.\n",
    "\n",
    "`result = gpd.sjoin(polygons_gdf, points_gdf, predicate=\"intersects\")`\n",
    "\n",
    "<br>\n"
   ]
  },
  {
   "cell_type": "code",
   "execution_count": null,
   "metadata": {
    "editable": true,
    "slideshow": {
     "slide_type": "fragment"
    },
    "tags": []
   },
   "outputs": [],
   "source": [
    "# realizar la unión espacial\n",
    "celdas_paraderos_join = gpd.sjoin(celdas, paraderos[['geometry']], how=\"left\", predicate=\"intersects\")\n",
    "\n",
    "# contar los paraderos por celda\n",
    "paraderos_count = (celdas_paraderos_join.groupby('h3', as_index=False).agg({'index_right':'count'}).rename(columns={'index_right':'n_paraderos'}))\n",
    "\n",
    "# agregar la columna de conteo al GeoDataFrame de celdas\n",
    "celdas_censo_paraderos = celdas_censo.merge(paraderos_count, on='h3', how='left')\n",
    "celdas_censo_paraderos['n_paraderos'] = celdas_censo_paraderos['n_paraderos'].fillna(0)\n",
    "\n",
    "# visualizar el total de paraderos por celda h3\n",
    "celdas_censo_paraderos.explore(column='n_paraderos', scheme='NaturalBreaks', k=10)"
   ]
  },
  {
   "cell_type": "markdown",
   "metadata": {
    "editable": true,
    "slideshow": {
     "slide_type": "skip"
    },
    "tags": []
   },
   "source": [
    "---"
   ]
  },
  {
   "cell_type": "markdown",
   "metadata": {
    "editable": true,
    "slideshow": {
     "slide_type": "slide"
    },
    "tags": []
   },
   "source": [
    "<!-- Slide: Síntesis de Diferencias entre overlay y sjoin -->\n",
    "<style>\n",
    "  .reveal table.geo { \n",
    "    border-collapse: collapse; \n",
    "    margin: 0 auto; \n",
    "    width: 100%;\n",
    "    font-size: 0.9em;\n",
    "  }\n",
    "  .reveal table.geo th, \n",
    "  .reveal table.geo td { \n",
    "    border-top: 1px solid #ccc;\n",
    "    border-bottom: 1px solid #ccc;\n",
    "    padding: 6px 8px;\n",
    "    vertical-align: middle;\n",
    "  }\n",
    "  .reveal table.geo th { \n",
    "    background-color: #f9f9f9;\n",
    "  }\n",
    "  .reveal table.geo td.col-prim,\n",
    "  .reveal table.geo th.col-prim { \n",
    "    text-align: left;\n",
    "    font-weight: bold;\n",
    "  }\n",
    "  .reveal table.geo td.col-ovl,\n",
    "  .reveal table.geo th.col-ovl,\n",
    "  .reveal table.geo td.col-sjn,\n",
    "  .reveal table.geo th.col-sjn {\n",
    "    text-align: left;\n",
    "  }\n",
    "</style>\n",
    "\n",
    "<h3>8. Síntesis de Diferencias entre <code>overlay</code> y <code>sjoin</code></h3>\n",
    "\n",
    "<table class=\"geo\">\n",
    "  <thead>\n",
    "    <tr>\n",
    "      <th class=\"col-prim\">Característica</th>\n",
    "      <th class=\"col-ovl\"><code>overlay</code></th>\n",
    "      <th class=\"col-sjn\"><code>sjoin</code></th>\n",
    "    </tr>\n",
    "  </thead>\n",
    "  <tbody>\n",
    "    <tr>\n",
    "      <td class=\"col-prim\">Enfoque</td>\n",
    "      <td class=\"col-ovl\">Crea <strong>nuevas geometrías</strong> basadas en operaciones geométricas (intersección, unión, diferencia, etc.).</td>\n",
    "      <td class=\"col-sjn\">Combina <strong>atributos</strong> según relaciones espaciales (intersección, contención, etc.) entre puntos y polígonos.</td>\n",
    "    </tr>\n",
    "    <tr>\n",
    "      <td class=\"col-prim\">Relaciones Soportadas</td>\n",
    "      <td class=\"col-ovl\"><code>intersection</code>, <code>union</code>, <code>difference</code>, <code>symmetric_difference</code>.</td>\n",
    "      <td class=\"col-sjn\"><code>intersects</code>, <code>contains</code>, <code>within</code>.</td>\n",
    "    </tr>\n",
    "    <tr>\n",
    "      <td class=\"col-prim\">Resultado Típico</td>\n",
    "      <td class=\"col-ovl\">Un nuevo GeoDataFrame con <strong>geometrías resultantes</strong> de la operación.</td>\n",
    "      <td class=\"col-sjn\">Un GeoDataFrame con <strong>atributos combinados</strong> sin alterar las geometrías originales.</td>\n",
    "    </tr>\n",
    "    <tr>\n",
    "      <td class=\"col-prim\">Ejemplo en el Laboratorio</td>\n",
    "      <td class=\"col-ovl\">Distribuir variables como <code>personas</code>, <code>viviendas</code> y <code>hogares</code> proporcionalmente según el área de superposición entre polígonos censales y celdas.</td>\n",
    "      <td class=\"col-sjn\">Contar cuántos paraderos de transporte público hay en cada celda.</td>\n",
    "    </tr>\n",
    "    <tr>\n",
    "      <td class=\"col-prim\">Cuándo Usar</td>\n",
    "      <td class=\"col-ovl\">Cuando se necesita <strong>modificar</strong> o <strong>crear nuevas geometrías</strong> basadas en la superposición de dos conjuntos de datos. Para <strong>redistribuir atributos</strong> en función de la <strong>proporción de área</strong> de intersección.</td>\n",
    "      <td class=\"col-sjn\">Cuando se desea <strong>asociar atributos</strong> de un conjunto de datos a otro basándose en su <strong>relación espacial</strong>. Ideal para <strong>conteos</strong> o asignaciones simples sin necesidad de modificar las geometrías existentes.</td>\n",
    "    </tr>\n",
    "  </tbody>\n",
    "</table>"
   ]
  },
  {
   "cell_type": "markdown",
   "metadata": {
    "editable": true,
    "slideshow": {
     "slide_type": "skip"
    },
    "tags": []
   },
   "source": [
    "---"
   ]
  },
  {
   "cell_type": "markdown",
   "metadata": {
    "editable": true,
    "slideshow": {
     "slide_type": "slide"
    },
    "tags": []
   },
   "source": [
    "## 9. Análisis de Correlaciones con `seaborn`\n",
    "\n",
    "Después de integrar tanto los **datos censales** como los **paraderos de transporte público** en las celdas, es útil explorar las **correlaciones** entre las variables para identificar posibles relaciones significativas para nuestros futuros laboratorios."
   ]
  },
  {
   "cell_type": "markdown",
   "metadata": {
    "editable": true,
    "slideshow": {
     "slide_type": "subslide"
    },
    "tags": []
   },
   "source": [
    "### Creación de la Matriz de Correlaciones\n",
    "\n",
    "Utilizaremos la biblioteca `seaborn` para generar una **matriz de correlaciones** que nos permitirá visualizar cómo se relacionan las diferentes variables entre sí.\n",
    "\n",
    "<br>\n"
   ]
  },
  {
   "cell_type": "code",
   "execution_count": null,
   "metadata": {
    "editable": true,
    "slideshow": {
     "slide_type": "fragment"
    },
    "tags": []
   },
   "outputs": [],
   "source": [
    "import seaborn as sns\n",
    "import matplotlib.pyplot as plt\n",
    "\n",
    "# seleccionar columnas de interés para el análisis de correlación\n",
    "vars_corr = ['personas', 'hogares', 'viviendas', 'n_paraderos', 'm2_habitacional']\n",
    "\n",
    "# crear la matriz de correlación\n",
    "corr_matrix = celdas_censo_paraderos[vars_corr].corr()\n",
    "\n",
    "# configurar el tamaño de la figura\n",
    "plt.figure(figsize=(10, 8))\n",
    "\n",
    "# graficar la matriz de correlación con seaborn\n",
    "sns.heatmap(corr_matrix, annot=True, cmap='YlGnBu', fmt=\".2f\")\n",
    "\n",
    "# añadir título\n",
    "plt.title(\"Matriz de Correlaciones\")\n",
    "\n",
    "# mostrar el gráfico\n",
    "plt.show()"
   ]
  },
  {
   "cell_type": "markdown",
   "metadata": {
    "editable": true,
    "slideshow": {
     "slide_type": "slide"
    },
    "tags": []
   },
   "source": [
    "## 10. Guardar los Datos Procesados\n",
    "\n",
    "Una vez que hemos **integrado la información de los datos censales y los paraderos de transporte público a las celdas**, debemos guardar este GeoDataFrame para su uso en futuros análisis y laboratorios.\n",
    "\n",
    "<br>"
   ]
  },
  {
   "cell_type": "code",
   "execution_count": null,
   "metadata": {
    "editable": true,
    "slideshow": {
     "slide_type": "fragment"
    },
    "tags": []
   },
   "outputs": [],
   "source": [
    "# exportar el GeoDataFrame 'celdas_censo_paraderos' a un archivo GeoJSON\n",
    "celdas_censo_paraderos.to_file(\"celdas.geojson\")"
   ]
  },
  {
   "cell_type": "markdown",
   "metadata": {
    "editable": true,
    "slideshow": {
     "slide_type": "slide"
    },
    "tags": []
   },
   "source": [
    "**Fin del Laboratorio 2**\n",
    "\n",
    "---\n",
    "\n",
    "En el próximo laboratorio, nos enfocaremos en el cálculo de accesibilidades gravitacionales."
   ]
  }
 ],
 "metadata": {
  "kernelspec": {
   "display_name": "Python 3 (ipykernel)",
   "language": "python",
   "name": "python3"
  },
  "language_info": {
   "codemirror_mode": {
    "name": "ipython",
    "version": 3
   },
   "file_extension": ".py",
   "mimetype": "text/x-python",
   "name": "python",
   "nbconvert_exporter": "python",
   "pygments_lexer": "ipython3",
   "version": "3.13.1"
  },
  "rise": {
   "auto_select": "none",
   "center": true,
   "controls": false,
   "overlay": "<link rel='stylesheet' href='rise.css'>",
   "progress": false,
   "scroll": true,
   "slideNumber": false,
   "transition": "fade"
  }
 },
 "nbformat": 4,
 "nbformat_minor": 4
}
